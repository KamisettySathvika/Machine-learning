{
 "cells": [
  {
   "cell_type": "code",
   "execution_count": 43,
   "metadata": {},
   "outputs": [],
   "source": [
    "import pandas as pd\n",
    "import numpy as np\n",
    "from sklearn.preprocessing import Normalizer\n",
    "import matplotlib.pyplot as plt"
   ]
  },
  {
   "cell_type": "code",
   "execution_count": 44,
   "metadata": {},
   "outputs": [
    {
     "data": {
      "text/html": [
       "<div>\n",
       "<style scoped>\n",
       "    .dataframe tbody tr th:only-of-type {\n",
       "        vertical-align: middle;\n",
       "    }\n",
       "\n",
       "    .dataframe tbody tr th {\n",
       "        vertical-align: top;\n",
       "    }\n",
       "\n",
       "    .dataframe thead th {\n",
       "        text-align: right;\n",
       "    }\n",
       "</style>\n",
       "<table border=\"1\" class=\"dataframe\">\n",
       "  <thead>\n",
       "    <tr style=\"text-align: right;\">\n",
       "      <th></th>\n",
       "      <th>fixed acidity</th>\n",
       "      <th>volatile acidity</th>\n",
       "      <th>citric acid</th>\n",
       "      <th>residual sugar</th>\n",
       "      <th>chlorides</th>\n",
       "      <th>free sulfur dioxide</th>\n",
       "      <th>total sulfur dioxide</th>\n",
       "      <th>density</th>\n",
       "      <th>pH</th>\n",
       "      <th>sulphates</th>\n",
       "      <th>alcohol</th>\n",
       "    </tr>\n",
       "  </thead>\n",
       "  <tbody>\n",
       "    <tr>\n",
       "      <th>0</th>\n",
       "      <td>7.4</td>\n",
       "      <td>0.70</td>\n",
       "      <td>0.00</td>\n",
       "      <td>1.9</td>\n",
       "      <td>0.076</td>\n",
       "      <td>11.0</td>\n",
       "      <td>34.0</td>\n",
       "      <td>0.9978</td>\n",
       "      <td>3.51</td>\n",
       "      <td>0.56</td>\n",
       "      <td>9.4</td>\n",
       "    </tr>\n",
       "    <tr>\n",
       "      <th>1</th>\n",
       "      <td>7.8</td>\n",
       "      <td>0.88</td>\n",
       "      <td>0.00</td>\n",
       "      <td>2.6</td>\n",
       "      <td>0.098</td>\n",
       "      <td>25.0</td>\n",
       "      <td>67.0</td>\n",
       "      <td>0.9968</td>\n",
       "      <td>3.20</td>\n",
       "      <td>0.68</td>\n",
       "      <td>9.8</td>\n",
       "    </tr>\n",
       "    <tr>\n",
       "      <th>2</th>\n",
       "      <td>7.8</td>\n",
       "      <td>0.76</td>\n",
       "      <td>0.04</td>\n",
       "      <td>2.3</td>\n",
       "      <td>0.092</td>\n",
       "      <td>15.0</td>\n",
       "      <td>54.0</td>\n",
       "      <td>0.9970</td>\n",
       "      <td>3.26</td>\n",
       "      <td>0.65</td>\n",
       "      <td>9.8</td>\n",
       "    </tr>\n",
       "    <tr>\n",
       "      <th>3</th>\n",
       "      <td>11.2</td>\n",
       "      <td>0.28</td>\n",
       "      <td>0.56</td>\n",
       "      <td>1.9</td>\n",
       "      <td>0.075</td>\n",
       "      <td>17.0</td>\n",
       "      <td>60.0</td>\n",
       "      <td>0.9980</td>\n",
       "      <td>3.16</td>\n",
       "      <td>0.58</td>\n",
       "      <td>9.8</td>\n",
       "    </tr>\n",
       "    <tr>\n",
       "      <th>4</th>\n",
       "      <td>7.4</td>\n",
       "      <td>0.70</td>\n",
       "      <td>0.00</td>\n",
       "      <td>1.9</td>\n",
       "      <td>0.076</td>\n",
       "      <td>11.0</td>\n",
       "      <td>34.0</td>\n",
       "      <td>0.9978</td>\n",
       "      <td>3.51</td>\n",
       "      <td>0.56</td>\n",
       "      <td>9.4</td>\n",
       "    </tr>\n",
       "  </tbody>\n",
       "</table>\n",
       "</div>"
      ],
      "text/plain": [
       "   fixed acidity  volatile acidity  citric acid  residual sugar  chlorides  \\\n",
       "0            7.4              0.70         0.00             1.9      0.076   \n",
       "1            7.8              0.88         0.00             2.6      0.098   \n",
       "2            7.8              0.76         0.04             2.3      0.092   \n",
       "3           11.2              0.28         0.56             1.9      0.075   \n",
       "4            7.4              0.70         0.00             1.9      0.076   \n",
       "\n",
       "   free sulfur dioxide  total sulfur dioxide  density    pH  sulphates  \\\n",
       "0                 11.0                  34.0   0.9978  3.51       0.56   \n",
       "1                 25.0                  67.0   0.9968  3.20       0.68   \n",
       "2                 15.0                  54.0   0.9970  3.26       0.65   \n",
       "3                 17.0                  60.0   0.9980  3.16       0.58   \n",
       "4                 11.0                  34.0   0.9978  3.51       0.56   \n",
       "\n",
       "   alcohol  \n",
       "0      9.4  \n",
       "1      9.8  \n",
       "2      9.8  \n",
       "3      9.8  \n",
       "4      9.4  "
      ]
     },
     "execution_count": 44,
     "metadata": {},
     "output_type": "execute_result"
    }
   ],
   "source": [
    "df=pd.read_csv(\"WineQT.csv\")[:100]\n",
    "\n",
    "df.drop([\"Id\",\"quality\"],axis=1,inplace=True)\n",
    "\n",
    "df.head()"
   ]
  },
  {
   "cell_type": "code",
   "execution_count": 45,
   "metadata": {},
   "outputs": [
    {
     "name": "stderr",
     "output_type": "stream",
     "text": [
      "c:\\Users\\91800\\Lib\\site-packages\\sklearn\\base.py:486: UserWarning: X has feature names, but Normalizer was fitted without feature names\n",
      "  warnings.warn(\n"
     ]
    },
    {
     "data": {
      "text/plain": [
       "array([[0.19515252, 0.01846037, 0.        , ..., 0.09256559, 0.0147683 ,\n",
       "        0.24789644],\n",
       "       [0.10724124, 0.01209901, 0.        , ..., 0.04399641, 0.00934924,\n",
       "        0.134739  ],\n",
       "       [0.13545665, 0.01319834, 0.00069465, ..., 0.05661393, 0.01128805,\n",
       "        0.17018912],\n",
       "       ...,\n",
       "       [0.26800367, 0.0165907 , 0.00340322, ..., 0.14208448, 0.02467335,\n",
       "        0.39987849],\n",
       "       [0.07398774, 0.00483766, 0.        , ..., 0.05236055, 0.01124044,\n",
       "        0.19919775],\n",
       "       [0.05579656, 0.00461527, 0.00378865, ..., 0.02183643, 0.00427085,\n",
       "        0.06475156]])"
      ]
     },
     "execution_count": 45,
     "metadata": {},
     "output_type": "execute_result"
    }
   ],
   "source": [
    "normalizer = Normalizer()\n",
    "\n",
    "df_np = normalizer.transform(df)\n",
    "\n",
    "df_np"
   ]
  },
  {
   "cell_type": "code",
   "execution_count": 46,
   "metadata": {},
   "outputs": [
    {
     "data": {
      "text/plain": [
       "(100, 11)"
      ]
     },
     "execution_count": 46,
     "metadata": {},
     "output_type": "execute_result"
    }
   ],
   "source": [
    "df_np.shape"
   ]
  },
  {
   "cell_type": "code",
   "execution_count": 47,
   "metadata": {},
   "outputs": [],
   "source": [
    "def e_distance(features,sample):\n",
    "    return np.sqrt(np.sum((sample-features) ** 2))"
   ]
  },
  {
   "cell_type": "code",
   "execution_count": 48,
   "metadata": {},
   "outputs": [],
   "source": [
    "# iterate over the dataset rows\n",
    "    # compare distance of the point to all clusters\n",
    "    # assign the point to closer clusters and append it to the list\n",
    "# repeat till all rows are done\n",
    "\n",
    "# calcute the final variance of the clusters"
   ]
  },
  {
   "cell_type": "code",
   "execution_count": 49,
   "metadata": {},
   "outputs": [
    {
     "name": "stdout",
     "output_type": "stream",
     "text": [
      "k = 3, Variation: 3.5668887787835812\n"
     ]
    }
   ],
   "source": [
    "for j in range(1000):\n",
    "    k = 3\n",
    "    \n",
    "    least_variance = 1000\n",
    "\n",
    "    data = {}\n",
    "    for i in range(k):\n",
    "        data[i] = {}\n",
    "        data[i][\"center\"] = df_np[np.random.randint(0, len(df_np))]\n",
    "        data[i][\"cluster\"] = []\n",
    "\n",
    "\n",
    "    converged = False\n",
    "    for epoch in range(10):\n",
    "        # iterate over the dataset rows\n",
    "        for i in range(len(df_np)):\n",
    "            distances = []\n",
    "            # compare distance of the point to all cluster's centers\n",
    "            for cluster in data:\n",
    "                distances.append(e_distance(df_np[i], data[cluster][\"center\"]))\n",
    "            # assign the point to closer clusters and append it to the list\n",
    "            \n",
    "            cluster_assignment = distances.index(min(distances))\n",
    "            data[cluster_assignment][\"cluster\"].append(df_np[i])\n",
    "            \n",
    "        for key in data:\n",
    "            cluster_data = data[key]\n",
    "            \n",
    "            # FIND THE Centeroid of the cluster\n",
    "            cluster_sum = sum(cluster_data[\"cluster\"])\n",
    "            \n",
    "            try:\n",
    "                centeroid = cluster_sum/ len(cluster_data[\"cluster\"])    \n",
    "            except:\n",
    "                centeroid = data[key][\"center\"]\n",
    "            \n",
    "            if data[key][\"center\"].all() == centeroid.all():\n",
    "                # print(\"Converged\")\n",
    "                converged = True\n",
    "                break\n",
    "            \n",
    "            data[key][\"center\"] = centeroid\n",
    "            \n",
    "        # variance of the clustering\n",
    "        final_variance = 0\n",
    "        \n",
    "        # print(f\"\\nEpoch : {epoch+1}\")\n",
    "        for key in data:\n",
    "            cluster_data = data[key]\n",
    "            \n",
    "            total_variance = 0\n",
    "            for point in cluster_data[\"cluster\"]:\n",
    "                variance = ((cluster_data[\"center\"] - point)**2).sum()\n",
    "                total_variance += variance\n",
    "            \n",
    "            # print(f\"Cluster: {key}, Variance: {total_variance}\")\n",
    "            \n",
    "            final_variance += total_variance\n",
    "            \n",
    "            data[key][\"cluster\"] = []\n",
    "        \n",
    "        if converged:\n",
    "            break\n",
    "\n",
    "    if final_variance < least_variance:\n",
    "        least_variance = final_variance\n",
    "        \n",
    "        for i in range(len(df_np)):\n",
    "            distances = []\n",
    "            # compare distance of the point to all cluster's centers\n",
    "            for cluster in data:\n",
    "                distances.append(e_distance(df_np[i], data[cluster][\"center\"]))\n",
    "            # assign the point to closer clusters and append it to the list\n",
    "            \n",
    "            cluster_assignment = distances.index(min(distances))\n",
    "            data[cluster_assignment][\"cluster\"].append(df_np[i])\n",
    "    \n",
    "    \n",
    "print(f\"k = {k}, Variation: {least_variance}\")"
   ]
  },
  {
   "cell_type": "code",
   "execution_count": 50,
   "metadata": {},
   "outputs": [
    {
     "data": {
      "image/png": "[encoded data removed]",
      "text/plain": [
       "<Figure size 640x480 with 1 Axes>"
      ]
     },
     "metadata": {},
     "output_type": "display_data"
    }
   ],
   "source": [
    "colors = [\"green\",\"red\",\"blue\",\"yellow\"]\n",
    "axis = [4 ,5]\n",
    "\n",
    "for key in data:\n",
    "    cluster_data = data[key]\n",
    "    points = cluster_data[\"cluster\"]\n",
    "    \n",
    "    x_points = []\n",
    "    y_points = []\n",
    "    plt.scatter(x=cluster_data[\"center\"][axis[0]], y = cluster_data[\"center\"][axis[1]], s=200, alpha=0.5)\n",
    "    \n",
    "    for point in points:\n",
    "        x_points.append(points[axis[0]])\n",
    "        y_points.append(points[axis[1]])\n",
    "\n",
    "    plt.scatter(x=x_points, y = y_points, c=colors[key])\n",
    "plt.show()"
   ]
  }
 ],
 "metadata": {
  "kernelspec": {
   "display_name": "Python 3",
   "language": "python",
   "name": "python3"
  },
  "language_info": {
   "codemirror_mode": {
    "name": "ipython",
    "version": 3
   },
   "file_extension": ".py",
   "mimetype": "text/x-python",
   "name": "python",
   "nbconvert_exporter": "python",
   "pygments_lexer": "ipython3",
   "version": "3.12.4"
  }
 },
 "nbformat": 4,
 "nbformat_minor": 2
}
