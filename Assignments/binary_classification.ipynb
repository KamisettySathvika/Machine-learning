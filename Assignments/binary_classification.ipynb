{
 "cells": [
  {
   "cell_type": "code",
   "execution_count": 21,
   "metadata": {},
   "outputs": [],
   "source": [
    "import pandas as pd\n",
    "import matplotlib.pyplot as plt\n",
    "import numpy as np\n",
    "import tensorflow as tf\n",
    "from tensorflow.keras.losses import binary_crossentropy\n",
    "from tqdm import tqdm"
   ]
  },
  {
   "cell_type": "code",
   "execution_count": 22,
   "metadata": {},
   "outputs": [
    {
     "name": "stdout",
     "output_type": "stream",
     "text": [
      "<class 'pandas.core.frame.DataFrame'>\n",
      "RangeIndex: 54035 entries, 0 to 54034\n",
      "Data columns (total 9 columns):\n",
      " #   Column           Non-Null Count  Dtype  \n",
      "---  ------           --------------  -----  \n",
      " 0   cap-diameter     54035 non-null  int64  \n",
      " 1   cap-shape        54035 non-null  int64  \n",
      " 2   gill-attachment  54035 non-null  int64  \n",
      " 3   gill-color       54035 non-null  int64  \n",
      " 4   stem-height      54035 non-null  float64\n",
      " 5   stem-width       54035 non-null  int64  \n",
      " 6   stem-color       54035 non-null  int64  \n",
      " 7   season           54035 non-null  float64\n",
      " 8   class            54035 non-null  int64  \n",
      "dtypes: float64(2), int64(7)\n",
      "memory usage: 3.7 MB\n"
     ]
    }
   ],
   "source": [
    "df=pd.read_csv(\"mushroom_cleaned.csv\")\n",
    "\n",
    "df.info()"
   ]
  },
  {
   "cell_type": "code",
   "execution_count": 23,
   "metadata": {},
   "outputs": [
    {
     "data": {
      "text/html": [
       "<div>\n",
       "<style scoped>\n",
       "    .dataframe tbody tr th:only-of-type {\n",
       "        vertical-align: middle;\n",
       "    }\n",
       "\n",
       "    .dataframe tbody tr th {\n",
       "        vertical-align: top;\n",
       "    }\n",
       "\n",
       "    .dataframe thead th {\n",
       "        text-align: right;\n",
       "    }\n",
       "</style>\n",
       "<table border=\"1\" class=\"dataframe\">\n",
       "  <thead>\n",
       "    <tr style=\"text-align: right;\">\n",
       "      <th></th>\n",
       "      <th>cap-diameter</th>\n",
       "      <th>cap-shape</th>\n",
       "      <th>gill-attachment</th>\n",
       "      <th>gill-color</th>\n",
       "      <th>stem-height</th>\n",
       "      <th>stem-width</th>\n",
       "      <th>stem-color</th>\n",
       "      <th>season</th>\n",
       "      <th>class</th>\n",
       "    </tr>\n",
       "  </thead>\n",
       "  <tbody>\n",
       "    <tr>\n",
       "      <th>0</th>\n",
       "      <td>1372</td>\n",
       "      <td>2</td>\n",
       "      <td>2</td>\n",
       "      <td>10</td>\n",
       "      <td>3.807467</td>\n",
       "      <td>1545</td>\n",
       "      <td>11</td>\n",
       "      <td>1.804273</td>\n",
       "      <td>1</td>\n",
       "    </tr>\n",
       "    <tr>\n",
       "      <th>1</th>\n",
       "      <td>1461</td>\n",
       "      <td>2</td>\n",
       "      <td>2</td>\n",
       "      <td>10</td>\n",
       "      <td>3.807467</td>\n",
       "      <td>1557</td>\n",
       "      <td>11</td>\n",
       "      <td>1.804273</td>\n",
       "      <td>1</td>\n",
       "    </tr>\n",
       "    <tr>\n",
       "      <th>2</th>\n",
       "      <td>1371</td>\n",
       "      <td>2</td>\n",
       "      <td>2</td>\n",
       "      <td>10</td>\n",
       "      <td>3.612496</td>\n",
       "      <td>1566</td>\n",
       "      <td>11</td>\n",
       "      <td>1.804273</td>\n",
       "      <td>1</td>\n",
       "    </tr>\n",
       "  </tbody>\n",
       "</table>\n",
       "</div>"
      ],
      "text/plain": [
       "   cap-diameter  cap-shape  gill-attachment  gill-color  stem-height  \\\n",
       "0          1372          2                2          10     3.807467   \n",
       "1          1461          2                2          10     3.807467   \n",
       "2          1371          2                2          10     3.612496   \n",
       "\n",
       "   stem-width  stem-color    season  class  \n",
       "0        1545          11  1.804273      1  \n",
       "1        1557          11  1.804273      1  \n",
       "2        1566          11  1.804273      1  "
      ]
     },
     "execution_count": 23,
     "metadata": {},
     "output_type": "execute_result"
    }
   ],
   "source": [
    "df.head(3)"
   ]
  },
  {
   "cell_type": "code",
   "execution_count": 24,
   "metadata": {},
   "outputs": [
    {
     "data": {
      "text/html": [
       "<div>\n",
       "<style scoped>\n",
       "    .dataframe tbody tr th:only-of-type {\n",
       "        vertical-align: middle;\n",
       "    }\n",
       "\n",
       "    .dataframe tbody tr th {\n",
       "        vertical-align: top;\n",
       "    }\n",
       "\n",
       "    .dataframe thead th {\n",
       "        text-align: right;\n",
       "    }\n",
       "</style>\n",
       "<table border=\"1\" class=\"dataframe\">\n",
       "  <thead>\n",
       "    <tr style=\"text-align: right;\">\n",
       "      <th></th>\n",
       "      <th>cap-diameter</th>\n",
       "      <th>cap-shape</th>\n",
       "      <th>gill-attachment</th>\n",
       "      <th>gill-color</th>\n",
       "      <th>stem-height</th>\n",
       "      <th>stem-width</th>\n",
       "      <th>stem-color</th>\n",
       "      <th>season</th>\n",
       "      <th>class</th>\n",
       "    </tr>\n",
       "  </thead>\n",
       "  <tbody>\n",
       "    <tr>\n",
       "      <th>count</th>\n",
       "      <td>54035.000000</td>\n",
       "      <td>54035.000000</td>\n",
       "      <td>54035.000000</td>\n",
       "      <td>54035.000000</td>\n",
       "      <td>54035.000000</td>\n",
       "      <td>54035.000000</td>\n",
       "      <td>54035.000000</td>\n",
       "      <td>54035.000000</td>\n",
       "      <td>54035.000000</td>\n",
       "    </tr>\n",
       "    <tr>\n",
       "      <th>mean</th>\n",
       "      <td>567.257204</td>\n",
       "      <td>4.000315</td>\n",
       "      <td>2.142056</td>\n",
       "      <td>7.329509</td>\n",
       "      <td>0.759110</td>\n",
       "      <td>1051.081299</td>\n",
       "      <td>8.418062</td>\n",
       "      <td>0.952163</td>\n",
       "      <td>0.549181</td>\n",
       "    </tr>\n",
       "    <tr>\n",
       "      <th>std</th>\n",
       "      <td>359.883763</td>\n",
       "      <td>2.160505</td>\n",
       "      <td>2.228821</td>\n",
       "      <td>3.200266</td>\n",
       "      <td>0.650969</td>\n",
       "      <td>782.056076</td>\n",
       "      <td>3.262078</td>\n",
       "      <td>0.305594</td>\n",
       "      <td>0.497580</td>\n",
       "    </tr>\n",
       "    <tr>\n",
       "      <th>min</th>\n",
       "      <td>0.000000</td>\n",
       "      <td>0.000000</td>\n",
       "      <td>0.000000</td>\n",
       "      <td>0.000000</td>\n",
       "      <td>0.000426</td>\n",
       "      <td>0.000000</td>\n",
       "      <td>0.000000</td>\n",
       "      <td>0.027372</td>\n",
       "      <td>0.000000</td>\n",
       "    </tr>\n",
       "    <tr>\n",
       "      <th>25%</th>\n",
       "      <td>289.000000</td>\n",
       "      <td>2.000000</td>\n",
       "      <td>0.000000</td>\n",
       "      <td>5.000000</td>\n",
       "      <td>0.270997</td>\n",
       "      <td>421.000000</td>\n",
       "      <td>6.000000</td>\n",
       "      <td>0.888450</td>\n",
       "      <td>0.000000</td>\n",
       "    </tr>\n",
       "    <tr>\n",
       "      <th>50%</th>\n",
       "      <td>525.000000</td>\n",
       "      <td>5.000000</td>\n",
       "      <td>1.000000</td>\n",
       "      <td>8.000000</td>\n",
       "      <td>0.593295</td>\n",
       "      <td>923.000000</td>\n",
       "      <td>11.000000</td>\n",
       "      <td>0.943195</td>\n",
       "      <td>1.000000</td>\n",
       "    </tr>\n",
       "    <tr>\n",
       "      <th>75%</th>\n",
       "      <td>781.000000</td>\n",
       "      <td>6.000000</td>\n",
       "      <td>4.000000</td>\n",
       "      <td>10.000000</td>\n",
       "      <td>1.054858</td>\n",
       "      <td>1523.000000</td>\n",
       "      <td>11.000000</td>\n",
       "      <td>0.943195</td>\n",
       "      <td>1.000000</td>\n",
       "    </tr>\n",
       "    <tr>\n",
       "      <th>max</th>\n",
       "      <td>1891.000000</td>\n",
       "      <td>6.000000</td>\n",
       "      <td>6.000000</td>\n",
       "      <td>11.000000</td>\n",
       "      <td>3.835320</td>\n",
       "      <td>3569.000000</td>\n",
       "      <td>12.000000</td>\n",
       "      <td>1.804273</td>\n",
       "      <td>1.000000</td>\n",
       "    </tr>\n",
       "  </tbody>\n",
       "</table>\n",
       "</div>"
      ],
      "text/plain": [
       "       cap-diameter     cap-shape  gill-attachment    gill-color  \\\n",
       "count  54035.000000  54035.000000     54035.000000  54035.000000   \n",
       "mean     567.257204      4.000315         2.142056      7.329509   \n",
       "std      359.883763      2.160505         2.228821      3.200266   \n",
       "min        0.000000      0.000000         0.000000      0.000000   \n",
       "25%      289.000000      2.000000         0.000000      5.000000   \n",
       "50%      525.000000      5.000000         1.000000      8.000000   \n",
       "75%      781.000000      6.000000         4.000000     10.000000   \n",
       "max     1891.000000      6.000000         6.000000     11.000000   \n",
       "\n",
       "        stem-height    stem-width    stem-color        season         class  \n",
       "count  54035.000000  54035.000000  54035.000000  54035.000000  54035.000000  \n",
       "mean       0.759110   1051.081299      8.418062      0.952163      0.549181  \n",
       "std        0.650969    782.056076      3.262078      0.305594      0.497580  \n",
       "min        0.000426      0.000000      0.000000      0.027372      0.000000  \n",
       "25%        0.270997    421.000000      6.000000      0.888450      0.000000  \n",
       "50%        0.593295    923.000000     11.000000      0.943195      1.000000  \n",
       "75%        1.054858   1523.000000     11.000000      0.943195      1.000000  \n",
       "max        3.835320   3569.000000     12.000000      1.804273      1.000000  "
      ]
     },
     "execution_count": 24,
     "metadata": {},
     "output_type": "execute_result"
    }
   ],
   "source": [
    "df.describe()"
   ]
  },
  {
   "cell_type": "code",
   "execution_count": 25,
   "metadata": {},
   "outputs": [
    {
     "data": {
      "text/plain": [
       "class\n",
       "1        29675\n",
       "0        24360\n",
       "Name: count, dtype: int64"
      ]
     },
     "execution_count": 25,
     "metadata": {},
     "output_type": "execute_result"
    }
   ],
   "source": [
    "targets = pd.DataFrame(df[\"class\"], columns=[\"class\"])\n",
    "\n",
    "targets.value_counts()"
   ]
  },
  {
   "cell_type": "code",
   "execution_count": 26,
   "metadata": {},
   "outputs": [
    {
     "data": {
      "text/plain": [
       "class\n",
       "0        24000\n",
       "1        24000\n",
       "Name: count, dtype: int64"
      ]
     },
     "execution_count": 26,
     "metadata": {},
     "output_type": "execute_result"
    }
   ],
   "source": [
    "#balancing class col to have equal number of 0 and 1\n",
    "class_1 = df[df[\"class\"] == 1].head(24000)\n",
    "class_0 = df[df[\"class\"] == 0].head(24000)\n",
    "\n",
    "balanced_df = pd.concat([class_1, class_0])\n",
    "targets = pd.DataFrame(balanced_df[\"class\"], columns=[\"class\"])\n",
    "\n",
    "targets.value_counts()\n"
   ]
  },
  {
   "cell_type": "code",
   "execution_count": 27,
   "metadata": {},
   "outputs": [],
   "source": [
    "df.drop(columns=['class'], inplace=True)\n"
   ]
  },
  {
   "cell_type": "code",
   "execution_count": 28,
   "metadata": {},
   "outputs": [
    {
     "data": {
      "text/plain": [
       "Index(['cap-diameter', 'cap-shape', 'gill-attachment', 'gill-color',\n",
       "       'stem-height', 'stem-width', 'stem-color', 'season'],\n",
       "      dtype='object')"
      ]
     },
     "execution_count": 28,
     "metadata": {},
     "output_type": "execute_result"
    }
   ],
   "source": [
    "df.columns"
   ]
  },
  {
   "cell_type": "code",
   "execution_count": 29,
   "metadata": {},
   "outputs": [
    {
     "data": {
      "text/html": [
       "<div>\n",
       "<style scoped>\n",
       "    .dataframe tbody tr th:only-of-type {\n",
       "        vertical-align: middle;\n",
       "    }\n",
       "\n",
       "    .dataframe tbody tr th {\n",
       "        vertical-align: top;\n",
       "    }\n",
       "\n",
       "    .dataframe thead th {\n",
       "        text-align: right;\n",
       "    }\n",
       "</style>\n",
       "<table border=\"1\" class=\"dataframe\">\n",
       "  <thead>\n",
       "    <tr style=\"text-align: right;\">\n",
       "      <th></th>\n",
       "      <th>cap-diameter</th>\n",
       "      <th>cap-shape</th>\n",
       "      <th>gill-attachment</th>\n",
       "      <th>gill-color</th>\n",
       "      <th>stem-height</th>\n",
       "      <th>stem-width</th>\n",
       "      <th>stem-color</th>\n",
       "      <th>season</th>\n",
       "    </tr>\n",
       "  </thead>\n",
       "  <tbody>\n",
       "    <tr>\n",
       "      <th>count</th>\n",
       "      <td>5.403500e+04</td>\n",
       "      <td>5.403500e+04</td>\n",
       "      <td>5.403500e+04</td>\n",
       "      <td>5.403500e+04</td>\n",
       "      <td>5.403500e+04</td>\n",
       "      <td>5.403500e+04</td>\n",
       "      <td>5.403500e+04</td>\n",
       "      <td>5.403500e+04</td>\n",
       "    </tr>\n",
       "    <tr>\n",
       "      <th>mean</th>\n",
       "      <td>7.574213e-17</td>\n",
       "      <td>5.891055e-17</td>\n",
       "      <td>1.683159e-17</td>\n",
       "      <td>-5.891055e-17</td>\n",
       "      <td>2.188106e-16</td>\n",
       "      <td>-7.784608e-17</td>\n",
       "      <td>-4.207896e-17</td>\n",
       "      <td>2.735133e-17</td>\n",
       "    </tr>\n",
       "    <tr>\n",
       "      <th>std</th>\n",
       "      <td>1.000000e+00</td>\n",
       "      <td>1.000000e+00</td>\n",
       "      <td>1.000000e+00</td>\n",
       "      <td>1.000000e+00</td>\n",
       "      <td>1.000000e+00</td>\n",
       "      <td>1.000000e+00</td>\n",
       "      <td>1.000000e+00</td>\n",
       "      <td>1.000000e+00</td>\n",
       "    </tr>\n",
       "    <tr>\n",
       "      <th>min</th>\n",
       "      <td>-1.576223e+00</td>\n",
       "      <td>-1.851564e+00</td>\n",
       "      <td>-9.610715e-01</td>\n",
       "      <td>-2.290281e+00</td>\n",
       "      <td>-1.165470e+00</td>\n",
       "      <td>-1.343997e+00</td>\n",
       "      <td>-2.580583e+00</td>\n",
       "      <td>-3.026211e+00</td>\n",
       "    </tr>\n",
       "    <tr>\n",
       "      <th>25%</th>\n",
       "      <td>-7.731863e-01</td>\n",
       "      <td>-9.258550e-01</td>\n",
       "      <td>-9.610715e-01</td>\n",
       "      <td>-7.279110e-01</td>\n",
       "      <td>-7.498255e-01</td>\n",
       "      <td>-8.056728e-01</td>\n",
       "      <td>-7.412645e-01</td>\n",
       "      <td>-2.084882e-01</td>\n",
       "    </tr>\n",
       "    <tr>\n",
       "      <th>50%</th>\n",
       "      <td>-1.174190e-01</td>\n",
       "      <td>4.627091e-01</td>\n",
       "      <td>-5.124037e-01</td>\n",
       "      <td>2.095111e-01</td>\n",
       "      <td>-2.547200e-01</td>\n",
       "      <td>-1.637751e-01</td>\n",
       "      <td>7.915009e-01</td>\n",
       "      <td>-2.934747e-02</td>\n",
       "    </tr>\n",
       "    <tr>\n",
       "      <th>75%</th>\n",
       "      <td>5.939218e-01</td>\n",
       "      <td>9.255638e-01</td>\n",
       "      <td>8.335995e-01</td>\n",
       "      <td>8.344592e-01</td>\n",
       "      <td>4.543199e-01</td>\n",
       "      <td>6.034333e-01</td>\n",
       "      <td>7.915009e-01</td>\n",
       "      <td>-2.934747e-02</td>\n",
       "    </tr>\n",
       "    <tr>\n",
       "      <th>max</th>\n",
       "      <td>3.678251e+00</td>\n",
       "      <td>9.255638e-01</td>\n",
       "      <td>1.730935e+00</td>\n",
       "      <td>1.146933e+00</td>\n",
       "      <td>4.725589e+00</td>\n",
       "      <td>3.219614e+00</td>\n",
       "      <td>1.098054e+00</td>\n",
       "      <td>2.788376e+00</td>\n",
       "    </tr>\n",
       "  </tbody>\n",
       "</table>\n",
       "</div>"
      ],
      "text/plain": [
       "       cap-diameter     cap-shape  gill-attachment    gill-color  \\\n",
       "count  5.403500e+04  5.403500e+04     5.403500e+04  5.403500e+04   \n",
       "mean   7.574213e-17  5.891055e-17     1.683159e-17 -5.891055e-17   \n",
       "std    1.000000e+00  1.000000e+00     1.000000e+00  1.000000e+00   \n",
       "min   -1.576223e+00 -1.851564e+00    -9.610715e-01 -2.290281e+00   \n",
       "25%   -7.731863e-01 -9.258550e-01    -9.610715e-01 -7.279110e-01   \n",
       "50%   -1.174190e-01  4.627091e-01    -5.124037e-01  2.095111e-01   \n",
       "75%    5.939218e-01  9.255638e-01     8.335995e-01  8.344592e-01   \n",
       "max    3.678251e+00  9.255638e-01     1.730935e+00  1.146933e+00   \n",
       "\n",
       "        stem-height    stem-width    stem-color        season  \n",
       "count  5.403500e+04  5.403500e+04  5.403500e+04  5.403500e+04  \n",
       "mean   2.188106e-16 -7.784608e-17 -4.207896e-17  2.735133e-17  \n",
       "std    1.000000e+00  1.000000e+00  1.000000e+00  1.000000e+00  \n",
       "min   -1.165470e+00 -1.343997e+00 -2.580583e+00 -3.026211e+00  \n",
       "25%   -7.498255e-01 -8.056728e-01 -7.412645e-01 -2.084882e-01  \n",
       "50%   -2.547200e-01 -1.637751e-01  7.915009e-01 -2.934747e-02  \n",
       "75%    4.543199e-01  6.034333e-01  7.915009e-01 -2.934747e-02  \n",
       "max    4.725589e+00  3.219614e+00  1.098054e+00  2.788376e+00  "
      ]
     },
     "execution_count": 29,
     "metadata": {},
     "output_type": "execute_result"
    }
   ],
   "source": [
    "cols = ['cap-diameter', 'cap-shape', 'gill-attachment', 'gill-color',\n",
    "                     'stem-height', 'stem-width', 'stem-color', 'season']\n",
    "\n",
    "\n",
    "x = df[cols]\n",
    "mean_x = x.mean()\n",
    "std_x = x.std()\n",
    "\n",
    "df[cols] = (x - mean_x) / std_x\n",
    "\n",
    "df.describe()\n"
   ]
  },
  {
   "cell_type": "code",
   "execution_count": 30,
   "metadata": {},
   "outputs": [
    {
     "data": {
      "text/plain": [
       "((54035, 8), (48000, 1))"
      ]
     },
     "execution_count": 30,
     "metadata": {},
     "output_type": "execute_result"
    }
   ],
   "source": [
    "df.shape,targets.shape"
   ]
  },
  {
   "cell_type": "code",
   "execution_count": 31,
   "metadata": {},
   "outputs": [],
   "source": [
    "# converting into tensors\n",
    "inputs_tf = tf.constant(df)\n",
    "targets_tf = tf.cast(tf.constant(targets), tf.float64)"
   ]
  },
  {
   "cell_type": "code",
   "execution_count": 32,
   "metadata": {},
   "outputs": [],
   "source": [
    "inputs_tf = inputs_tf[:48000]"
   ]
  },
  {
   "cell_type": "code",
   "execution_count": 33,
   "metadata": {},
   "outputs": [
    {
     "data": {
      "text/plain": [
       "(TensorShape([48000, 8]), TensorShape([48000, 1]))"
      ]
     },
     "execution_count": 33,
     "metadata": {},
     "output_type": "execute_result"
    }
   ],
   "source": [
    "inputs_tf.shape,targets_tf.shape"
   ]
  },
  {
   "cell_type": "code",
   "execution_count": 34,
   "metadata": {},
   "outputs": [],
   "source": [
    "#binary classification we use sigmoid function as activation function\n",
    "#multi-class classification we use softmax function as activation function"
   ]
  },
  {
   "cell_type": "code",
   "execution_count": 35,
   "metadata": {},
   "outputs": [
    {
     "data": {
      "text/plain": [
       "(<tf.Variable 'Variable:0' shape=(8, 1) dtype=float64, numpy=\n",
       " array([[ 0.95290919],\n",
       "        [ 1.7745559 ],\n",
       "        [ 0.66652746],\n",
       "        [-0.69062387],\n",
       "        [-0.44535226],\n",
       "        [-0.35933904],\n",
       "        [-0.75710045],\n",
       "        [-2.17439746]])>,\n",
       " <tf.Variable 'Variable:0' shape=(1,) dtype=float64, numpy=array([-1.47880833])>)"
      ]
     },
     "execution_count": 35,
     "metadata": {},
     "output_type": "execute_result"
    }
   ],
   "source": [
    "# initializing the model\n",
    "weights = tf.Variable(tf.random.normal(shape=(8,1), dtype = tf.float64))\n",
    "bias = tf.Variable(tf.random.normal(shape=(1,), dtype = tf.float64))\n",
    "\n",
    "weights,bias"
   ]
  },
  {
   "cell_type": "code",
   "execution_count": 36,
   "metadata": {},
   "outputs": [
    {
     "name": "stderr",
     "output_type": "stream",
     "text": [
      "100%|██████████| 3500/3500 [01:13<00:00, 47.48it/s]\n"
     ]
    }
   ],
   "source": [
    "# main training loop\n",
    "\n",
    "\n",
    "# activation function\n",
    "def sigmoid(x):\n",
    "    return 1 / (1 + tf.exp(-x))\n",
    "\n",
    "mean_loss_list = []\n",
    "accuracy_list = []\n",
    "\n",
    "lr = 0.01\n",
    "epochs = range(3500)\n",
    "\n",
    "for epoch in tqdm(epochs):\n",
    "    \n",
    "    with tf.GradientTape() as tape:\n",
    "        \n",
    "        # Making prediction\n",
    "        preds = tf.add(inputs_tf @ weights, bias)\n",
    "        prob = sigmoid(preds)\n",
    "       \n",
    "        #calculating loss\n",
    "        loss = binary_crossentropy(targets_tf, prob)\n",
    "        mean_loss = tf.reduce_sum(loss)/ len(targets_tf)\n",
    "        \n",
    "        \n",
    "        mean_loss_list.append(mean_loss.numpy())\n",
    "\n",
    "\n",
    "        #accuracy\n",
    "        predicted_classes = tf.cast(prob > 0.5, dtype=tf.float64)  \n",
    "        correct_predictions = tf.equal(predicted_classes, targets_tf)\n",
    "        accuracy = tf.reduce_mean(tf.cast(correct_predictions, dtype=tf.float64))\n",
    "        \n",
    "        accuracy_list.append(accuracy.numpy())\n",
    "        \n",
    "        # taking gradients\n",
    "        w_grad, b_grad = tape.gradient( mean_loss , [weights,bias] )\n",
    "        \n",
    "        \n",
    "        # updating model\n",
    "        weights = tf.Variable(weights - lr * w_grad)\n",
    "        bias = tf.Variable(bias - lr * b_grad)\n",
    "\n",
    "        weights.assign_sub(lr * w_grad)\n",
    "        bias.assign_sub(lr * b_grad)\n",
    "\n",
    "        #print(mean_loss)"
   ]
  },
  {
   "cell_type": "code",
   "execution_count": 37,
   "metadata": {},
   "outputs": [
    {
     "name": "stdout",
     "output_type": "stream",
     "text": [
      "68.89166666666667\n"
     ]
    }
   ],
   "source": [
    "print(accuracy_list[-1]*100)"
   ]
  },
  {
   "cell_type": "code",
   "execution_count": 38,
   "metadata": {},
   "outputs": [
    {
     "data": {
      "image/png": "[encoded data removed]",
      "text/plain": [
       "<Figure size 640x480 with 1 Axes>"
      ]
     },
     "metadata": {},
     "output_type": "display_data"
    }
   ],
   "source": [
    "plt.plot(epochs,accuracy_list)\n",
    "plt.ylabel('accuracy')\n",
    "plt.xlabel('epochs')\n",
    "plt.title('epochs vs accuracy')\n",
    "plt.show()"
   ]
  },
  {
   "cell_type": "code",
   "execution_count": 39,
   "metadata": {},
   "outputs": [],
   "source": [
    "#predicting the model\n",
    "\n",
    "labels=[0,1]\n",
    "\n",
    "def predict(inputs_tf):\n",
    "    pred = inputs_tf @ weights + bias\n",
    "    prob = sigmoid(pred)\n",
    "\n",
    "   \n",
    "    prob = list(prob[0])\n",
    "    \n",
    "    for label, p in zip(labels, prob):\n",
    "        print(f\"{label} : {float(p)*100:.2f}%\")\n",
    "        \n",
    "    return labels[int(tf.where(pred[0] == tf.reduce_max(pred[0]))[0,0])]"
   ]
  },
  {
   "cell_type": "code",
   "execution_count": 40,
   "metadata": {},
   "outputs": [
    {
     "name": "stdout",
     "output_type": "stream",
     "text": [
      "[5.1 3.5 1.4 0.2 0.2 0.2 0.2 0.2] cap-diameter        567.257204\n",
      "cap-shape             4.000315\n",
      "gill-attachment       2.142056\n",
      "gill-color            7.329509\n",
      "stem-height           0.759110\n",
      "stem-width         1051.081299\n",
      "stem-color            8.418062\n",
      "season                0.952163\n",
      "dtype: float64\n",
      "0 : 7.12%\n",
      "edible to eat\n"
     ]
    }
   ],
   "source": [
    "sample_input = np.array([5.1, 3.5, 1.4, 0.2, 0.2, 0.2, 0.2, 0.2])\n",
    "\n",
    "print(sample_input,mean_x)\n",
    "\n",
    "samp=(sample_input-mean_x)/ std_x\n",
    "samp_tf=tf.constant(samp)\n",
    "\n",
    "samp_tf = tf.reshape(samp_tf, (1,8))\n",
    "\n",
    "res=predict(samp_tf)\n",
    "\n",
    "if res==0:\n",
    "    print(\"edible to eat\")\n",
    "else:\n",
    "    print(\"poisonous to eat\")\n",
    "\n"
   ]
  }
 ],
 "metadata": {
  "kernelspec": {
   "display_name": "Python 3",
   "language": "python",
   "name": "python3"
  },
  "language_info": {
   "codemirror_mode": {
    "name": "ipython",
    "version": 3
   },
   "file_extension": ".py",
   "mimetype": "text/x-python",
   "name": "python",
   "nbconvert_exporter": "python",
   "pygments_lexer": "ipython3",
   "version": "3.12.4"
  }
 },
 "nbformat": 4,
 "nbformat_minor": 2
}
